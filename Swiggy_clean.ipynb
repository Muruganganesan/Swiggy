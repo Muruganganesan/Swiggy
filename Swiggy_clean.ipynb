{
  "cells": [
    {
      "cell_type": "code",
      "execution_count": null,
      "metadata": {
        "colab": {
          "base_uri": "https://localhost:8080/"
        },
        "collapsed": true,
        "id": "BcvnEjxmZs35",
        "outputId": "8d83782d-5d39-45e6-f612-b2b69fc7bc61"
      },
      "outputs": [],
      "source": [
        "import pandas as pd\n",
        "from tabulate import tabulate\n",
        "\n",
        "# Load the CSV file into a pandas DataFrame\n",
        "df = pd.read_csv('/content/drive/MyDrive/swiggy.csv')\n",
        "\n",
        "# Sort the DataFrame by the 'name' column in ascending order\n",
        "df_sorted = df.sort_values(by='name')\n",
        "\n",
        "# Print the sorted DataFrame in tabulate format\n",
        "print(tabulate(df_sorted, headers='keys', tablefmt='psql'))\n"
      ]
    },
    {
      "cell_type": "code",
      "execution_count": null,
      "metadata": {
        "colab": {
          "base_uri": "https://localhost:8080/"
        },
        "collapsed": true,
        "id": "sfTHQ58mdduC",
        "outputId": "60a0bb12-3d2d-4915-d62e-bcf3d48d076f"
      },
      "outputs": [],
      "source": [
        "# prompt: remove symbols toketest=\"!@#$%^&*i\"\n",
        "\n",
        "import pandas as pd\n",
        "from tabulate import tabulate\n",
        "import re\n",
        "\n",
        "# Load the CSV file into a pandas DataFrame\n",
        "df = pd.read_csv('/content/drive/MyDrive/swiggy.csv')\n",
        "\n",
        "# Function to remove symbols from a string\n",
        "def remove_symbols(text):\n",
        "    return re.sub(r'[^\\w\\s]', '', str(text))\n",
        "\n",
        "# Apply the function to the 'name' column\n",
        "df['name'] = df['name'].apply(remove_symbols)\n",
        "\n",
        "\n",
        "# Sort the DataFrame by the 'name' column in ascending order\n",
        "df_sorted = df.sort_values(by='name')\n",
        "\n",
        "# Print the sorted DataFrame in tabulate format\n",
        "print(tabulate(df_sorted, headers='keys', tablefmt='psql'))\n"
      ]
    },
    {
      "cell_type": "code",
      "execution_count": null,
      "metadata": {
        "id": "eiMOpnE8kV_2"
      },
      "outputs": [],
      "source": [
        "# prompt: Remove rows with NA values in the 'rating' column and save csv\n",
        "\n",
        "# Remove rows with NA values in the 'rating' column\n",
        "df_cleaned = df.dropna(subset=['rating'])\n",
        "\n",
        "# Save the cleaned DataFrame to a new CSV file\n",
        "df_cleaned.to_csv('/content/drive/MyDrive/swiggy_cleanedx.csv', index=False)\n"
      ]
    },
    {
      "cell_type": "code",
      "execution_count": null,
      "metadata": {
        "collapsed": true,
        "id": "AtRYIrHlkCPW"
      },
      "outputs": [],
      "source": [
        "import pandas as pd\n",
        "from tabulate import tabulate\n",
        "\n",
        "# Load the CSV file into a pandas DataFrame\n",
        "df = pd.read_csv('/content/drive/MyDrive/swiggy_cleanedx.csv')\n",
        "\n",
        "# Sort the DataFrame by the 'name' column in ascending order\n",
        "df_sorted = df.sort_values(by='name')\n",
        "\n",
        "# Print the sorted DataFrame in tabulate format\n",
        "#print(tabulate(df_sorted, headers='keys', tablefmt='psql'))\n"
      ]
    },
    {
      "cell_type": "code",
      "execution_count": null,
      "metadata": {
        "id": "A5WlmVHJmCNW"
      },
      "outputs": [],
      "source": [
        "# prompt: Remove rows with -- values in the 'rating' column and save csv\n",
        "\n",
        "import pandas as pd\n",
        "\n",
        "# Load the CSV file into a pandas DataFrame\n",
        "df = pd.read_csv('/content/drive/MyDrive/swiggy_cleanedx.csv')\n",
        "\n",
        "# Remove rows where the 'rating' column contains '--'\n",
        "df_cleaned = df[df['rating'] != '--']\n",
        "\n",
        "# Save the cleaned DataFrame to a new CSV file\n",
        "df_cleaned.to_csv('/content/drive/MyDrive/swiggy_cleaned_finalx.csv', index=False)\n"
      ]
    },
    {
      "cell_type": "code",
      "execution_count": null,
      "metadata": {
        "id": "JJDjAkNpmT_L",
        "collapsed": true
      },
      "outputs": [],
      "source": [
        "import pandas as pd\n",
        "from tabulate import tabulate\n",
        "\n",
        "# Load the CSV file into a pandas DataFrame\n",
        "df = pd.read_csv('/content/drive/MyDrive/swiggy_cleaned_finalx.csv')\n",
        "\n",
        "# Sort the DataFrame by the 'name' column in ascending order\n",
        "df_sorted = df.sort_values(by='name')\n",
        "\n",
        "# Print the sorted DataFrame in tabulate format\n",
        "#print(tabulate(df_sorted, headers='keys', tablefmt='psql'))\n"
      ]
    },
    {
      "cell_type": "code",
      "source": [
        "# prompt: remove columns 'id', 'lic_no',  'link',  'menu' and save csv\n",
        "\n",
        "# Load the CSV file into a pandas DataFrame\n",
        "df = pd.read_csv('/content/drive/MyDrive/swiggy_cleaned_finalx.csv')\n",
        "\n",
        "# Remove specified columns\n",
        "columns_to_remove = ['id', 'lic_no', 'link', 'menu']\n",
        "df = df.drop(columns=columns_to_remove, errors='ignore')\n",
        "\n",
        "# Save the modified DataFrame to a new CSV file\n",
        "df.to_csv('/content/drive/MyDrive/swiggy_finalx.csv', index=False)\n"
      ],
      "metadata": {
        "id": "MGtdWQxsoLy2"
      },
      "execution_count": null,
      "outputs": []
    },
    {
      "cell_type": "code",
      "source": [
        "import pandas as pd\n",
        "from tabulate import tabulate\n",
        "\n",
        "# Load the CSV file into a pandas DataFrame\n",
        "df = pd.read_csv('/content/drive/MyDrive/swiggy_finalx.csv')\n",
        "\n",
        "# Sort the DataFrame by the 'name' column in ascending order\n",
        "df_sorted = df.sort_values(by='name')\n",
        "\n",
        "# Print the sorted DataFrame in tabulate format\n",
        "print(tabulate(df_sorted, headers='keys', tablefmt='psql'))\n"
      ],
      "metadata": {
        "colab": {
          "base_uri": "https://localhost:8080/"
        },
        "id": "Hd72i4NxoyY9",
        "outputId": "58ba3f06-4a5f-4ff3-c1a1-b6230636bd43"
      },
      "execution_count": null,
      "outputs": []
    },
    {
      "cell_type": "code",
      "source": [
        "# prompt: remove '+ ratings' in the rating_count column and replace 'K' to '000' in the same column\n",
        "\n",
        "import pandas as pd\n",
        "\n",
        "# Load the CSV file\n",
        "df = pd.read_csv('/content/drive/MyDrive/swiggy_finalx.csv')\n",
        "\n",
        "# Function to clean the 'rating_count' column\n",
        "def clean_rating_count(rating_count):\n",
        "    rating_count = str(rating_count)  # Ensure it's a string\n",
        "    rating_count = rating_count.replace('+ ratings', '')\n",
        "    rating_count = rating_count.replace('K', '000')\n",
        "    return rating_count\n",
        "\n",
        "# Apply the cleaning function to the 'rating_count' column\n",
        "df['rating_count'] = df['rating_count'].apply(clean_rating_count)\n",
        "\n",
        "# Save the modified DataFrame back to the CSV file\n",
        "df.to_csv('/content/drive/MyDrive/swiggy_final2x.csv', index=False)\n",
        "\n",
        "# (Optional) Print the updated DataFrame to verify the changes\n",
        "print(df.head())\n"
      ],
      "metadata": {
        "colab": {
          "base_uri": "https://localhost:8080/"
        },
        "collapsed": true,
        "id": "fOWONBfupXKW",
        "outputId": "71f54d21-d41c-443c-b8cd-51fe2ac0ec7d"
      },
      "execution_count": null,
      "outputs": [
        {
          "output_type": "stream",
          "name": "stdout",
          "text": [
            "                name    city  rating rating_count   cost           cuisine  \\\n",
            "0  Janta Sweet House  Abohar     4.4           50  ₹ 200     Sweets,Bakery   \n",
            "1  theka coffee desi  Abohar     3.8          100  ₹ 100         Beverages   \n",
            "2          Singh Hut  Abohar     3.7           20  ₹ 250  Fast Food,Indian   \n",
            "3          Sam Uncle  Abohar     3.6           20  ₹ 200       Continental   \n",
            "4   shere punjab veg  Abohar     4.0          100  ₹ 150      North Indian   \n",
            "\n",
            "                                             address  \n",
            "0  Janta Sweet House, Bazar No.9, Circullar Road,...  \n",
            "1         theka coffee desi, sahtiya sadan road city  \n",
            "2    Singh Hut, CIRCULAR ROAD NEAR NEHRU PARK ABOHAR  \n",
            "3  Sam Uncle, hanumangarh road near raja bajaj sh...  \n",
            "4  shere punjab veg, major surinder chowk near ve...  \n"
          ]
        }
      ]
    },
    {
      "cell_type": "code",
      "source": [
        "import pandas as pd\n",
        "from tabulate import tabulate\n",
        "\n",
        "# Load the CSV file into a pandas DataFrame\n",
        "df = pd.read_csv('/content/drive/MyDrive/swiggy_final2x.csv')\n",
        "\n",
        "# Sort the DataFrame by the 'name' column in ascending order\n",
        "df_sorted = df.sort_values(by='name')\n",
        "\n",
        "# Print the sorted DataFrame in tabulate format\n",
        "print(tabulate(df_sorted, headers='keys', tablefmt='psql'))\n"
      ],
      "metadata": {
        "id": "znXzqa8rq39E",
        "outputId": "f1d97bac-882d-41ef-cc77-da95c563765a",
        "colab": {
          "base_uri": "https://localhost:8080/"
        },
        "collapsed": true
      },
      "execution_count": null,
      "outputs": []
    }
  ],
  "metadata": {
    "colab": {
      "provenance": []
    },
    "kernelspec": {
      "display_name": "Python 3",
      "name": "python3"
    },
    "language_info": {
      "name": "python"
    }
  },
  "nbformat": 4,
  "nbformat_minor": 0
}